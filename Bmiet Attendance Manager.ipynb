{
 "cells": [
  {
   "cell_type": "markdown",
   "metadata": {},
   "source": [
    "# Import Required modules \n",
    "    Import requests to get the contents of our request\n",
    "    Import bs4(BeautifulSoup) to process the request"
   ]
  },
  {
   "cell_type": "code",
   "execution_count": 1,
   "metadata": {},
   "outputs": [],
   "source": [
    "from requests import session\n",
    "from bs4 import BeautifulSoup"
   ]
  },
  {
   "cell_type": "markdown",
   "metadata": {},
   "source": [
    "# Using an agent to not getting an error of a robot Error 406"
   ]
  },
  {
   "cell_type": "code",
   "execution_count": 2,
   "metadata": {},
   "outputs": [],
   "source": [
    "he={\"User-Agent\": \"Mozilla/5.0 (Windows NT 10.0; Win64; x64) AppleWebKit/537.36 (KHTML, like Gecko) Chrome/86.0.4240.183 Safari/537.36\"}"
   ]
  },
  {
   "cell_type": "markdown",
   "metadata": {},
   "source": [
    "# Login Data URLs"
   ]
  },
  {
   "cell_type": "code",
   "execution_count": 3,
   "metadata": {},
   "outputs": [],
   "source": [
    "login_data={\n",
    "'_token': 'enter',\n",
    "'username': 'Enter UserName',\n",
    "'password': 'Enter Password'}\n",
    "Login_url=\"http://app.bmiet.net/student/student-login\"\n",
    "login_page_URL=\"http://app.bmiet.net/student/login\"\n",
    "Attencance_URL=\"http://app.bmiet.net/student/attendance/view\"\n",
    "login_Data['username']=input('Enter your UserName')\n",
    "login_Data['password']=input('Enter your Password')"
   ]
  },
  {
   "cell_type": "markdown",
   "metadata": {},
   "source": [
    "# Creating an object s of session"
   ]
  },
  {
   "cell_type": "code",
   "execution_count": 4,
   "metadata": {},
   "outputs": [],
   "source": [
    "s=session()"
   ]
  },
  {
   "cell_type": "markdown",
   "metadata": {},
   "source": [
    "# Requesting and parsing \n",
    "    Requesting the page\n",
    "    parsing the page\n",
    "    extracting the unique token that is generated on opening the login page \n",
    "    saving the token to put login Data\n",
    "    Login Data complete :-)"
   ]
  },
  {
   "cell_type": "code",
   "execution_count": 5,
   "metadata": {},
   "outputs": [],
   "source": [
    "r=s.get(login_page_URL,headers=he)\n",
    "soup=BeautifulSoup(r.content,'html.parser')\n",
    "Token=soup.find('input',attrs={'name':'_token'})['value']\n",
    "login_data['_token']=Token"
   ]
  },
  {
   "cell_type": "markdown",
   "metadata": {},
   "source": [
    "# Loging in \n",
    "    posting our login details with headers to the login URL\n",
    "    Optional - soup contains the first page that come that comes after loging in "
   ]
  },
  {
   "cell_type": "code",
   "execution_count": 6,
   "metadata": {},
   "outputs": [],
   "source": [
    "r=s.post(Login_url,headers=he,data=login_data)\n",
    "soup=BeautifulSoup(r.content,'html.parser')"
   ]
  },
  {
   "cell_type": "markdown",
   "metadata": {},
   "source": [
    "# Moving to attendance page and parsing it"
   ]
  },
  {
   "cell_type": "code",
   "execution_count": 7,
   "metadata": {},
   "outputs": [],
   "source": [
    "r=s.get(Attencance_URL,headers=he)\n",
    "soup=BeautifulSoup(r.content,\"html.parser\")"
   ]
  },
  {
   "cell_type": "markdown",
   "metadata": {},
   "source": [
    "<!-- # Extracting all the rows of the -->"
   ]
  },
  {
   "cell_type": "markdown",
   "metadata": {},
   "source": [
    "# Extracting all the rows of the table "
   ]
  },
  {
   "cell_type": "code",
   "execution_count": 8,
   "metadata": {},
   "outputs": [],
   "source": [
    "result=soup.findAll('td')"
   ]
  },
  {
   "cell_type": "markdown",
   "metadata": {},
   "source": [
    "# Extracting the text from the list of td tags and convert them to lower case"
   ]
  },
  {
   "cell_type": "code",
   "execution_count": 9,
   "metadata": {},
   "outputs": [],
   "source": [
    "result=list(map(lambda r:str(r.getText().lower()),result))"
   ]
  },
  {
   "cell_type": "markdown",
   "metadata": {},
   "source": [
    "# Initializing all the parameters and processing the result"
   ]
  },
  {
   "cell_type": "code",
   "execution_count": 10,
   "metadata": {},
   "outputs": [],
   "source": [
    "Date=[]\n",
    "Attendace=[]\n",
    "No_of_lecture=[]\n",
    "subject=[]"
   ]
  },
  {
   "cell_type": "code",
   "execution_count": 11,
   "metadata": {},
   "outputs": [
    {
     "name": "stdout",
     "output_type": "stream",
     "text": [
      "Present := 44 \n",
      "absent :=  56 \n",
      "percentage := 44.0\n"
     ]
    }
   ],
   "source": [
    "absent=0;present=0\n",
    "def checker(check):\n",
    "    if check=='present':\n",
    "        global present\n",
    "        present+=1\n",
    "    elif check=='absent':\n",
    "        global absent\n",
    "        absent+=1\n",
    "for i in result:\n",
    "    checker(i)\n",
    "print(\"Present :=\",present,\"\\nabsent := \",absent,\"\\npercentage :=\",(present/(absent+present)*100))"
   ]
  }
 ],
 "metadata": {
  "kernelspec": {
   "display_name": "Python 3",
   "language": "python",
   "name": "python3"
  },
  "language_info": {
   "codemirror_mode": {
    "name": "ipython",
    "version": 3
   },
   "file_extension": ".py",
   "mimetype": "text/x-python",
   "name": "python",
   "nbconvert_exporter": "python",
   "pygments_lexer": "ipython3",
   "version": "3.7.6"
  }
 },
 "nbformat": 4,
 "nbformat_minor": 4
}
